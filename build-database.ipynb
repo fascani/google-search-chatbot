{
 "cells": [
  {
   "cell_type": "code",
   "execution_count": 1,
   "id": "bff64815",
   "metadata": {},
   "outputs": [
    {
     "name": "stdout",
     "output_type": "stream",
     "text": [
      "Looking in indexes: https://pypi.org/simple, https://pip.repos.neuron.amazonaws.com\n",
      "Requirement already satisfied: google-search-results in /home/ec2-user/anaconda3/envs/python3/lib/python3.10/site-packages (2.4.2)\n",
      "Requirement already satisfied: requests in /home/ec2-user/anaconda3/envs/python3/lib/python3.10/site-packages (from google-search-results) (2.29.0)\n",
      "Requirement already satisfied: charset-normalizer<4,>=2 in /home/ec2-user/anaconda3/envs/python3/lib/python3.10/site-packages (from requests->google-search-results) (2.1.1)\n",
      "Requirement already satisfied: idna<4,>=2.5 in /home/ec2-user/anaconda3/envs/python3/lib/python3.10/site-packages (from requests->google-search-results) (3.4)\n",
      "Requirement already satisfied: urllib3<1.27,>=1.21.1 in /home/ec2-user/anaconda3/envs/python3/lib/python3.10/site-packages (from requests->google-search-results) (1.26.14)\n",
      "Requirement already satisfied: certifi>=2017.4.17 in /home/ec2-user/anaconda3/envs/python3/lib/python3.10/site-packages (from requests->google-search-results) (2023.5.7)\n",
      "Looking in indexes: https://pypi.org/simple, https://pip.repos.neuron.amazonaws.com\n",
      "Requirement already satisfied: gspread in /home/ec2-user/anaconda3/envs/python3/lib/python3.10/site-packages (5.10.0)\n",
      "Requirement already satisfied: google-auth>=1.12.0 in /home/ec2-user/anaconda3/envs/python3/lib/python3.10/site-packages (from gspread) (2.22.0)\n",
      "Requirement already satisfied: google-auth-oauthlib>=0.4.1 in /home/ec2-user/anaconda3/envs/python3/lib/python3.10/site-packages (from gspread) (1.0.0)\n",
      "Requirement already satisfied: cachetools<6.0,>=2.0.0 in /home/ec2-user/anaconda3/envs/python3/lib/python3.10/site-packages (from google-auth>=1.12.0->gspread) (5.3.1)\n",
      "Requirement already satisfied: pyasn1-modules>=0.2.1 in /home/ec2-user/anaconda3/envs/python3/lib/python3.10/site-packages (from google-auth>=1.12.0->gspread) (0.3.0)\n",
      "Requirement already satisfied: rsa<5,>=3.1.4 in /home/ec2-user/anaconda3/envs/python3/lib/python3.10/site-packages (from google-auth>=1.12.0->gspread) (4.7.2)\n",
      "Requirement already satisfied: six>=1.9.0 in /home/ec2-user/anaconda3/envs/python3/lib/python3.10/site-packages (from google-auth>=1.12.0->gspread) (1.16.0)\n",
      "Requirement already satisfied: urllib3<2.0 in /home/ec2-user/anaconda3/envs/python3/lib/python3.10/site-packages (from google-auth>=1.12.0->gspread) (1.26.14)\n",
      "Requirement already satisfied: requests-oauthlib>=0.7.0 in /home/ec2-user/anaconda3/envs/python3/lib/python3.10/site-packages (from google-auth-oauthlib>=0.4.1->gspread) (1.3.1)\n",
      "Requirement already satisfied: pyasn1<0.6.0,>=0.4.6 in /home/ec2-user/anaconda3/envs/python3/lib/python3.10/site-packages (from pyasn1-modules>=0.2.1->google-auth>=1.12.0->gspread) (0.5.0)\n",
      "Requirement already satisfied: oauthlib>=3.0.0 in /home/ec2-user/anaconda3/envs/python3/lib/python3.10/site-packages (from requests-oauthlib>=0.7.0->google-auth-oauthlib>=0.4.1->gspread) (3.2.2)\n",
      "Requirement already satisfied: requests>=2.0.0 in /home/ec2-user/anaconda3/envs/python3/lib/python3.10/site-packages (from requests-oauthlib>=0.7.0->google-auth-oauthlib>=0.4.1->gspread) (2.29.0)\n",
      "Requirement already satisfied: charset-normalizer<4,>=2 in /home/ec2-user/anaconda3/envs/python3/lib/python3.10/site-packages (from requests>=2.0.0->requests-oauthlib>=0.7.0->google-auth-oauthlib>=0.4.1->gspread) (2.1.1)\n",
      "Requirement already satisfied: idna<4,>=2.5 in /home/ec2-user/anaconda3/envs/python3/lib/python3.10/site-packages (from requests>=2.0.0->requests-oauthlib>=0.7.0->google-auth-oauthlib>=0.4.1->gspread) (3.4)\n",
      "Requirement already satisfied: certifi>=2017.4.17 in /home/ec2-user/anaconda3/envs/python3/lib/python3.10/site-packages (from requests>=2.0.0->requests-oauthlib>=0.7.0->google-auth-oauthlib>=0.4.1->gspread) (2023.5.7)\n",
      "Looking in indexes: https://pypi.org/simple, https://pip.repos.neuron.amazonaws.com\n",
      "Requirement already satisfied: oauth2client in /home/ec2-user/anaconda3/envs/python3/lib/python3.10/site-packages (4.1.3)\n",
      "Requirement already satisfied: httplib2>=0.9.1 in /home/ec2-user/anaconda3/envs/python3/lib/python3.10/site-packages (from oauth2client) (0.22.0)\n",
      "Requirement already satisfied: pyasn1>=0.1.7 in /home/ec2-user/anaconda3/envs/python3/lib/python3.10/site-packages (from oauth2client) (0.5.0)\n",
      "Requirement already satisfied: pyasn1-modules>=0.0.5 in /home/ec2-user/anaconda3/envs/python3/lib/python3.10/site-packages (from oauth2client) (0.3.0)\n",
      "Requirement already satisfied: rsa>=3.1.4 in /home/ec2-user/anaconda3/envs/python3/lib/python3.10/site-packages (from oauth2client) (4.7.2)\n",
      "Requirement already satisfied: six>=1.6.1 in /home/ec2-user/anaconda3/envs/python3/lib/python3.10/site-packages (from oauth2client) (1.16.0)\n",
      "Requirement already satisfied: pyparsing!=3.0.0,!=3.0.1,!=3.0.2,!=3.0.3,<4,>=2.4.2 in /home/ec2-user/anaconda3/envs/python3/lib/python3.10/site-packages (from httplib2>=0.9.1->oauth2client) (3.0.9)\n",
      "Looking in indexes: https://pypi.org/simple, https://pip.repos.neuron.amazonaws.com\n",
      "Requirement already satisfied: nltk in /home/ec2-user/anaconda3/envs/python3/lib/python3.10/site-packages (3.8.1)\n",
      "Requirement already satisfied: click in /home/ec2-user/anaconda3/envs/python3/lib/python3.10/site-packages (from nltk) (8.1.3)\n",
      "Requirement already satisfied: joblib in /home/ec2-user/anaconda3/envs/python3/lib/python3.10/site-packages (from nltk) (1.2.0)\n",
      "Requirement already satisfied: regex>=2021.8.3 in /home/ec2-user/anaconda3/envs/python3/lib/python3.10/site-packages (from nltk) (2023.5.5)\n",
      "Requirement already satisfied: tqdm in /home/ec2-user/anaconda3/envs/python3/lib/python3.10/site-packages (from nltk) (4.65.0)\n"
     ]
    }
   ],
   "source": [
    "!pip install google-search-results\n",
    "!pip install gspread\n",
    "!pip install oauth2client\n",
    "!pip install nltk"
   ]
  },
  {
   "cell_type": "code",
   "execution_count": 2,
   "id": "c9956239",
   "metadata": {},
   "outputs": [],
   "source": [
    "import collect_clean_embed_data as cced\n",
    "import numpy as np\n",
    "import nltk\n",
    "import time"
   ]
  },
  {
   "cell_type": "code",
   "execution_count": 3,
   "id": "c11c5eee",
   "metadata": {},
   "outputs": [
    {
     "name": "stderr",
     "output_type": "stream",
     "text": [
      "[nltk_data] Downloading package punkt to /home/ec2-user/nltk_data...\n",
      "[nltk_data]   Package punkt is already up-to-date!\n"
     ]
    },
    {
     "data": {
      "text/plain": [
       "True"
      ]
     },
     "execution_count": 3,
     "metadata": {},
     "output_type": "execute_result"
    }
   ],
   "source": [
    "nltk.download('punkt')"
   ]
  },
  {
   "cell_type": "code",
   "execution_count": 4,
   "id": "1d234453",
   "metadata": {},
   "outputs": [],
   "source": [
    "google_search = 'review about Curology products'"
   ]
  },
  {
   "cell_type": "code",
   "execution_count": 5,
   "id": "d30a1eea",
   "metadata": {},
   "outputs": [],
   "source": [
    "serp_api_token = 'XXXXXX'"
   ]
  },
  {
   "cell_type": "code",
   "execution_count": 34,
   "id": "7cc35978",
   "metadata": {},
   "outputs": [],
   "source": [
    "# Number of searches to do\n",
    "num_searches = 1"
   ]
  },
  {
   "cell_type": "code",
   "execution_count": 35,
   "id": "b31272d5",
   "metadata": {},
   "outputs": [
    {
     "name": "stdout",
     "output_type": "stream",
     "text": [
      "13\n",
      "Link: https://curology.com/skincare/reviews/\n",
      "Link: https://thingtesting.com/brands/curology/reviews\n",
      "Link: https://www.healthline.com/health/skin/curology-review\n",
      "Link: https://www.medicalnewstoday.com/articles/curology\n",
      "Link: https://www.trustpilot.com/review/curology.com\n",
      "Link: https://www.cosmopolitan.com/style-beauty/beauty/a32454121/curology-review/\n",
      "Link: https://www.reviews.io/company-reviews/store/curology\n",
      "Link: https://stylecaster.com/beauty/skin-care/1352015/curology-review/\n",
      "2888\n"
     ]
    }
   ],
   "source": [
    "start = 0\n",
    "all_texts = []\n",
    "for ns in range(num_searches):\n",
    "    links = cced.collect_links(google_search, serp_api_token, start)\n",
    "    print(len(links))\n",
    "    texts = cced.parse_return_texts(links)\n",
    "    print(len(texts))\n",
    "    all_texts.extend(texts)\n",
    "    start += 10\n",
    "    if ns < num_searches-1:\n",
    "        time.sleep(60)"
   ]
  },
  {
   "cell_type": "code",
   "execution_count": 36,
   "id": "18c160a7",
   "metadata": {},
   "outputs": [
    {
     "data": {
      "text/plain": [
       "2888"
      ]
     },
     "execution_count": 36,
     "metadata": {},
     "output_type": "execute_result"
    }
   ],
   "source": [
    "len(all_texts)"
   ]
  },
  {
   "cell_type": "code",
   "execution_count": 37,
   "id": "f238244c",
   "metadata": {},
   "outputs": [],
   "source": [
    "# Keep only pieces of text with at least a certain number of tokens\n",
    "min_num_tokens = 5\n",
    "kept_texts = cced.clean_texts(all_texts, min_num_tokens)"
   ]
  },
  {
   "cell_type": "code",
   "execution_count": 38,
   "id": "1858ea46",
   "metadata": {},
   "outputs": [
    {
     "data": {
      "text/plain": [
       "91"
      ]
     },
     "execution_count": 38,
     "metadata": {},
     "output_type": "execute_result"
    }
   ],
   "source": [
    "len(kept_texts)"
   ]
  },
  {
   "cell_type": "code",
   "execution_count": 39,
   "id": "abdb33f6",
   "metadata": {},
   "outputs": [],
   "source": [
    "# Copy the json file from Google in the local dir and input its name here\n",
    "service_account_json = 'reference-tine-396417-f92dee293865.json'"
   ]
  },
  {
   "cell_type": "code",
   "execution_count": 40,
   "id": "a2f375b4",
   "metadata": {},
   "outputs": [],
   "source": [
    "google_file_name = 'review-on-curology-chatbot-db'"
   ]
  },
  {
   "cell_type": "code",
   "execution_count": 41,
   "id": "f701ecc9",
   "metadata": {},
   "outputs": [],
   "source": [
    "sheet_name = 'info'"
   ]
  },
  {
   "cell_type": "code",
   "execution_count": null,
   "id": "2dca854d",
   "metadata": {},
   "outputs": [],
   "source": [
    "sheet = cced.access_sheet(service_account_json, google_file_name, sheet_name)"
   ]
  },
  {
   "cell_type": "code",
   "execution_count": null,
   "id": "c815a4a5",
   "metadata": {},
   "outputs": [],
   "source": [
    "indexes = np.arange(np.min([60, len(kept_texts)]))\n",
    "max_index = len(kept_texts)-1\n",
    "# Doing 60 and pausing 1 min to stay within the quota from Google\n",
    "keep_going = True\n",
    "while keep_going:\n",
    "    cced.save_into_google_sheet([kept_texts[ii] for ii in indexes], sheet)\n",
    "    if np.max(indexes) == max_index:\n",
    "        keep_going=False\n",
    "    else:\n",
    "        indexes = indexes + np.min([60, max_index-np.max(indexes)])\n",
    "        time.sleep(80)"
   ]
  }
 ],
 "metadata": {
  "kernelspec": {
   "display_name": "conda_python3",
   "language": "python",
   "name": "conda_python3"
  },
  "language_info": {
   "codemirror_mode": {
    "name": "ipython",
    "version": 3
   },
   "file_extension": ".py",
   "mimetype": "text/x-python",
   "name": "python",
   "nbconvert_exporter": "python",
   "pygments_lexer": "ipython3",
   "version": "3.10.10"
  }
 },
 "nbformat": 4,
 "nbformat_minor": 5
}
