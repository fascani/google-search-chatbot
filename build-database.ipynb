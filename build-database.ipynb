{
 "cells": [
  {
   "cell_type": "code",
   "execution_count": 1,
   "id": "bff64815",
   "metadata": {},
   "outputs": [
    {
     "name": "stdout",
     "output_type": "stream",
     "text": [
      "Looking in indexes: https://pypi.org/simple, https://pip.repos.neuron.amazonaws.com\n",
      "Requirement already satisfied: google-search-results in /home/ec2-user/anaconda3/envs/python3/lib/python3.10/site-packages (2.4.2)\n",
      "Requirement already satisfied: requests in /home/ec2-user/anaconda3/envs/python3/lib/python3.10/site-packages (from google-search-results) (2.29.0)\n",
      "Requirement already satisfied: charset-normalizer<4,>=2 in /home/ec2-user/anaconda3/envs/python3/lib/python3.10/site-packages (from requests->google-search-results) (2.1.1)\n",
      "Requirement already satisfied: idna<4,>=2.5 in /home/ec2-user/anaconda3/envs/python3/lib/python3.10/site-packages (from requests->google-search-results) (3.4)\n",
      "Requirement already satisfied: urllib3<1.27,>=1.21.1 in /home/ec2-user/anaconda3/envs/python3/lib/python3.10/site-packages (from requests->google-search-results) (1.26.14)\n",
      "Requirement already satisfied: certifi>=2017.4.17 in /home/ec2-user/anaconda3/envs/python3/lib/python3.10/site-packages (from requests->google-search-results) (2023.5.7)\n",
      "Looking in indexes: https://pypi.org/simple, https://pip.repos.neuron.amazonaws.com\n",
      "Requirement already satisfied: gspread in /home/ec2-user/anaconda3/envs/python3/lib/python3.10/site-packages (5.10.0)\n",
      "Requirement already satisfied: google-auth>=1.12.0 in /home/ec2-user/anaconda3/envs/python3/lib/python3.10/site-packages (from gspread) (2.22.0)\n",
      "Requirement already satisfied: google-auth-oauthlib>=0.4.1 in /home/ec2-user/anaconda3/envs/python3/lib/python3.10/site-packages (from gspread) (1.0.0)\n",
      "Requirement already satisfied: cachetools<6.0,>=2.0.0 in /home/ec2-user/anaconda3/envs/python3/lib/python3.10/site-packages (from google-auth>=1.12.0->gspread) (5.3.1)\n",
      "Requirement already satisfied: pyasn1-modules>=0.2.1 in /home/ec2-user/anaconda3/envs/python3/lib/python3.10/site-packages (from google-auth>=1.12.0->gspread) (0.3.0)\n",
      "Requirement already satisfied: rsa<5,>=3.1.4 in /home/ec2-user/anaconda3/envs/python3/lib/python3.10/site-packages (from google-auth>=1.12.0->gspread) (4.7.2)\n",
      "Requirement already satisfied: six>=1.9.0 in /home/ec2-user/anaconda3/envs/python3/lib/python3.10/site-packages (from google-auth>=1.12.0->gspread) (1.16.0)\n",
      "Requirement already satisfied: urllib3<2.0 in /home/ec2-user/anaconda3/envs/python3/lib/python3.10/site-packages (from google-auth>=1.12.0->gspread) (1.26.14)\n",
      "Requirement already satisfied: requests-oauthlib>=0.7.0 in /home/ec2-user/anaconda3/envs/python3/lib/python3.10/site-packages (from google-auth-oauthlib>=0.4.1->gspread) (1.3.1)\n",
      "Requirement already satisfied: pyasn1<0.6.0,>=0.4.6 in /home/ec2-user/anaconda3/envs/python3/lib/python3.10/site-packages (from pyasn1-modules>=0.2.1->google-auth>=1.12.0->gspread) (0.5.0)\n",
      "Requirement already satisfied: oauthlib>=3.0.0 in /home/ec2-user/anaconda3/envs/python3/lib/python3.10/site-packages (from requests-oauthlib>=0.7.0->google-auth-oauthlib>=0.4.1->gspread) (3.2.2)\n",
      "Requirement already satisfied: requests>=2.0.0 in /home/ec2-user/anaconda3/envs/python3/lib/python3.10/site-packages (from requests-oauthlib>=0.7.0->google-auth-oauthlib>=0.4.1->gspread) (2.29.0)\n",
      "Requirement already satisfied: charset-normalizer<4,>=2 in /home/ec2-user/anaconda3/envs/python3/lib/python3.10/site-packages (from requests>=2.0.0->requests-oauthlib>=0.7.0->google-auth-oauthlib>=0.4.1->gspread) (2.1.1)\n",
      "Requirement already satisfied: idna<4,>=2.5 in /home/ec2-user/anaconda3/envs/python3/lib/python3.10/site-packages (from requests>=2.0.0->requests-oauthlib>=0.7.0->google-auth-oauthlib>=0.4.1->gspread) (3.4)\n",
      "Requirement already satisfied: certifi>=2017.4.17 in /home/ec2-user/anaconda3/envs/python3/lib/python3.10/site-packages (from requests>=2.0.0->requests-oauthlib>=0.7.0->google-auth-oauthlib>=0.4.1->gspread) (2023.5.7)\n",
      "Looking in indexes: https://pypi.org/simple, https://pip.repos.neuron.amazonaws.com\n",
      "Requirement already satisfied: oauth2client in /home/ec2-user/anaconda3/envs/python3/lib/python3.10/site-packages (4.1.3)\n",
      "Requirement already satisfied: httplib2>=0.9.1 in /home/ec2-user/anaconda3/envs/python3/lib/python3.10/site-packages (from oauth2client) (0.22.0)\n",
      "Requirement already satisfied: pyasn1>=0.1.7 in /home/ec2-user/anaconda3/envs/python3/lib/python3.10/site-packages (from oauth2client) (0.5.0)\n",
      "Requirement already satisfied: pyasn1-modules>=0.0.5 in /home/ec2-user/anaconda3/envs/python3/lib/python3.10/site-packages (from oauth2client) (0.3.0)\n",
      "Requirement already satisfied: rsa>=3.1.4 in /home/ec2-user/anaconda3/envs/python3/lib/python3.10/site-packages (from oauth2client) (4.7.2)\n",
      "Requirement already satisfied: six>=1.6.1 in /home/ec2-user/anaconda3/envs/python3/lib/python3.10/site-packages (from oauth2client) (1.16.0)\n",
      "Requirement already satisfied: pyparsing!=3.0.0,!=3.0.1,!=3.0.2,!=3.0.3,<4,>=2.4.2 in /home/ec2-user/anaconda3/envs/python3/lib/python3.10/site-packages (from httplib2>=0.9.1->oauth2client) (3.0.9)\n",
      "Looking in indexes: https://pypi.org/simple, https://pip.repos.neuron.amazonaws.com\n",
      "Requirement already satisfied: nltk in /home/ec2-user/anaconda3/envs/python3/lib/python3.10/site-packages (3.8.1)\n",
      "Requirement already satisfied: click in /home/ec2-user/anaconda3/envs/python3/lib/python3.10/site-packages (from nltk) (8.1.3)\n",
      "Requirement already satisfied: joblib in /home/ec2-user/anaconda3/envs/python3/lib/python3.10/site-packages (from nltk) (1.2.0)\n",
      "Requirement already satisfied: regex>=2021.8.3 in /home/ec2-user/anaconda3/envs/python3/lib/python3.10/site-packages (from nltk) (2023.5.5)\n",
      "Requirement already satisfied: tqdm in /home/ec2-user/anaconda3/envs/python3/lib/python3.10/site-packages (from nltk) (4.65.0)\n"
     ]
    }
   ],
   "source": [
    "!pip install google-search-results\n",
    "!pip install gspread\n",
    "!pip install oauth2client\n",
    "!pip install nltk"
   ]
  },
  {
   "cell_type": "code",
   "execution_count": 22,
   "id": "c9956239",
   "metadata": {},
   "outputs": [],
   "source": [
    "import collect_clean_embed_data as cced\n",
    "import numpy as np\n",
    "import nltk\n",
    "import time"
   ]
  },
  {
   "cell_type": "code",
   "execution_count": 3,
   "id": "c11c5eee",
   "metadata": {},
   "outputs": [
    {
     "name": "stderr",
     "output_type": "stream",
     "text": [
      "[nltk_data] Downloading package punkt to /home/ec2-user/nltk_data...\n",
      "[nltk_data]   Package punkt is already up-to-date!\n"
     ]
    },
    {
     "data": {
      "text/plain": [
       "True"
      ]
     },
     "execution_count": 3,
     "metadata": {},
     "output_type": "execute_result"
    }
   ],
   "source": [
    "nltk.download('punkt')"
   ]
  },
  {
   "cell_type": "code",
   "execution_count": 4,
   "id": "1d234453",
   "metadata": {},
   "outputs": [],
   "source": [
    "google_search = 'review about Curology products'"
   ]
  },
  {
   "cell_type": "code",
   "execution_count": 5,
   "id": "d30a1eea",
   "metadata": {},
   "outputs": [],
   "source": [
    "serp_api_token = '8ae2aaad19d7a2c4c9f8047807bb345bc9528bf5fce71a3d40c97b9dacb0a4e0'"
   ]
  },
  {
   "cell_type": "code",
   "execution_count": 48,
   "id": "b31272d5",
   "metadata": {},
   "outputs": [],
   "source": [
    "links = cced.collect_links(google_search, serp_api_token, num=10)"
   ]
  },
  {
   "cell_type": "code",
   "execution_count": 63,
   "id": "c291d6c3",
   "metadata": {},
   "outputs": [
    {
     "data": {
      "text/plain": [
       "13"
      ]
     },
     "execution_count": 63,
     "metadata": {},
     "output_type": "execute_result"
    }
   ],
   "source": [
    "len(links)"
   ]
  },
  {
   "cell_type": "code",
   "execution_count": 49,
   "id": "6cfdf63b",
   "metadata": {},
   "outputs": [
    {
     "name": "stdout",
     "output_type": "stream",
     "text": [
      "Link: https://curology.com/skincare/reviews/\n",
      "Link: https://thingtesting.com/brands/curology/reviews\n",
      "Link: https://www.healthline.com/health/skin/curology-review\n",
      "Link: https://www.medicalnewstoday.com/articles/curology\n",
      "Link: https://www.trustpilot.com/review/curology.com\n",
      "Link: https://www.cosmopolitan.com/style-beauty/beauty/a32454121/curology-review/\n",
      "Link: https://www.reviews.io/company-reviews/store/curology\n",
      "Link: https://stylecaster.com/beauty/skin-care/1352015/curology-review/\n"
     ]
    }
   ],
   "source": [
    "texts = cced.parse_return_texts(links)"
   ]
  },
  {
   "cell_type": "code",
   "execution_count": 50,
   "id": "b50b3969",
   "metadata": {},
   "outputs": [
    {
     "data": {
      "text/plain": [
       "2888"
      ]
     },
     "execution_count": 50,
     "metadata": {},
     "output_type": "execute_result"
    }
   ],
   "source": [
    "len(texts)"
   ]
  },
  {
   "cell_type": "code",
   "execution_count": 54,
   "id": "f238244c",
   "metadata": {},
   "outputs": [],
   "source": [
    "# Keep only pieces of text with at least a certain number of tokens\n",
    "min_num_tokens = 5\n",
    "kept_texts = cced.clean_texts(texts, min_num_tokens)"
   ]
  },
  {
   "cell_type": "code",
   "execution_count": 55,
   "id": "d9910b87",
   "metadata": {},
   "outputs": [
    {
     "data": {
      "text/plain": [
       "['Curology Review 2023: Is the Prescription Skincare Service Worth It? – StyleCaster',\n",
       " 'This Best-Selling Shapewear Bodysuit Went Viral on TikTok & Shoppers Say They Look So ‘Snatched’ In It',\n",
       " 'Watch This Space Presented by Prime Video',\n",
       " 'Email address to subscribe to newsletter.',\n",
       " 'By subscribing, I agree to the',\n",
       " '. This site is protected by reCAPTCHA Enterprise and the Google',\n",
       " 'StyleCaster is a part of Penske Media Corporation. © 2023 SheMedia, LLC. All Rights Reserved.',\n",
       " 'Does Curology Work? I Tested the Personalized Skincare Brand & Here Are My Honest Thoughts',\n",
       " 'How my acne-prone skin fared after three weeks of consistent use.',\n",
       " 'The PS5 Is on Sale For a Massive Discount at This Unexpected Place For One More Day',\n",
       " 'This Celeb-Loved Jewelry Brand Just Launched a New Harry Potter Inspired Collection & It’s Selling Fast',\n",
       " 'This One Product Brings Reduced Laugh Lines & Upper Lip Lines Within a Week, According to Shoppers',\n",
       " 'January 31, 2023 1:37 pm',\n",
       " 'All products and services featured are independently chosen by editors. However, StyleCaster may receive a commission on orders placed through its retail links, and the retailer may receive certain auditable data for accounting purposes.',\n",
       " '’s personalized treatments have always piqued my interest. I regularly test new skincare products for my job, and while I’ve definitely found some favorites along the way, nothing has halted breakouts in the way I’ve dreamt. After much frustration and a lot of wasted time, I finally decided to put every product I’ve been using on pause and take the plunge on signing up for',\n",
       " 'a trial with Curology.',\n",
       " 'It’s safe to say',\n",
       " 'are having a moment; not everyone has the means or time to visit a dermatologist, therefore online',\n",
       " 'resources like Curology are truly paving the way to accessible, effective',\n",
       " 'How to Watch the Yankees vs. Red Sox Live For Free to See Which Rival Wins',\n",
       " 'The Oil That ‘Helps With Hair Growth’ & Yields Results In ‘a Couple of Weeks’ Is on Sale For $9',\n",
       " 'While I’m still new to the service—I’ve consistently been using my trial kit for about three weeks now—I’ve already been fairly surprised by my results. I use the Acne Cleanser, Gel Moisturizer,',\n",
       " 'daily, and regularly track my progress. In my before-and-after photo, you can see the visible changes from day one of application alongside one I took today, just three weeks out. My cheeks, where acne tends to form the most, are much clearer while my overall skin tone is far more even.',\n",
       " 'But, more on that later.',\n",
       " 'Now, let’s get into the nitty gritty of how Curology works.',\n",
       " 'that delivers a personalized prescription formula catered to solving your specific skin concerns straight to your door. First, you take an online assessment—fill out a form answering questions about your skin type, concerns, and medical history and upload a few photos of your skin. If Curology is right for you, one of Curology’s medical professionals (the service enlists the expertise of 100+ licensed dermatology providers) will prescribe you a personalized prescription-strength cream.',\n",
       " 'contains a combination of some of the below active ingredients, determined by your dermatology provider, based on your specific skin concerns:',\n",
       " 'Tretinoin (a topical retinoid available by prescription only)',\n",
       " 'Azelaic Acid (an ingredient that helps unclog pores and can fade dark spots)',\n",
       " 'Clindamycin (an acne-fighting topical antibiotic)',\n",
       " 'Niacinamide (a form of vitamin B3 that fights inflammation and improves dark spots)',\n",
       " 'Metronidazole (an antimicrobial helpful in rosacea treatment)',\n",
       " 'Zinc Pyrithione (an antimicrobial)',\n",
       " 'Tranexamic Acid (a synthetic amino acid that can improve dark spots and redness)',\n",
       " 'The service has helped millions of patients improve a',\n",
       " 'wide range of skin issues',\n",
       " ', including acne, dark spots, hyperpigmentation, rosacea, fine lines and wrinkles, and uneven texture and tone.',\n",
       " 'How Much is Curology?',\n",
       " 'Pricing entirely varies on what products you select. Each subscription begins with your personalized prescription formula, which will run you $29.95 per month (billed every 60 days at $59.90).',\n",
       " 'If you’re looking to build out an entire skincare routine with Curology products, you can select add-on products for an extra charge, such as cleanser (Gentle Cleanser or Acne Cleanser), moisturizer (Gel Moisturizer or Cream Moisturizer),',\n",
       " '. This can be updated for each shipment, should you choose to add on or remove products at any given time.',\n",
       " 'If you run out of your Curology products early, you can request to move your next delivery up sooner and vice versa should you need more time to make your way through your current products and push out the next shipment.',\n",
       " 'It’s worth noting that due to Curology’s unique model, they bill their customers directly and do not accept insurance. That said, you may be able to pay directly with your HSA or FSA card. If you have questions about whether or not Curology may be a covered expense by one of these plans, it’s best to contact your plan administrator.',\n",
       " 'If you’ve never introduced Curology’s list of ingredients to your skin before, you may see your skin go through a “purge” prior to witnessing results. This means that you may experience a temporary acne flare due to your pores getting cleaned out. That said, some people may not experience this at all. It is also possible that you may notice some redness and irritation as your skin adjusts to your new topical prescription formula. Your Curology provider is there if you have any questions about this and can offer tips to help you adjust.',\n",
       " 'Just make sure you’ve done your research prior to slathering on these ingredients—Curology offers a',\n",
       " 'guide for the first few weeks',\n",
       " 'to help you get acquainted. Should you experience purging, you can reach out to your provider for advice and an adjustment to your formula, if necessary.',\n",
       " 'While ultimately results will vary from person to person, my personal experience has been highly positive since I began my Curology journey a few weeks ago. I was surprised to see my skin adjust quickly to the Custom FormulaRx I was prescribed through my trial box, which included tretinoin, clindamycin phosphate, and azelaic acid, all of which were entirely new ingredients to me.',\n",
       " 'My provider started me out on lower strengths of tretinoin and azelaic acid, therefore my skin was able to adapt with minimal negative side-effects. While I did experience a few more breakouts than usual in the beginning, I saw my skin texture begin to even out and my complexion appear brighter overall pretty quickly. I also credit these benefits to my use of the cleanser, moisturizer, and Micellar Makeup Remover.',\n",
       " 'Like most skincare products, it can take up to a few months for noticeable changes to manifest across my skin. According to Curlogy, many consistent-use patients will notice a difference within 6 to 8 weeks of application. Basically, you’re signing up for a committed relationship with these products—if you want lasting results, you’ve got to keep in mind that you may have a long timeline ahead of you.',\n",
       " 'You can cancel your subscription at any time through the “Payment” page. That said, once a shipment has been processed it cannot be canceled after the fact; make sure to stop your service at least 2 business days ahead of your next billing cycle.',\n",
       " 'Is Curology Worth it?',\n",
       " 'I put my typical skincare regimen on hold to solely test',\n",
       " 'in the hopes of remedying my acne-prone skin. While I’m still very much in the thick of my Curology journey, I do plan on sticking with my prescribed formula and new routine for the next several months given the positive results I’ve already seen, the following of which include: makeup applying better and sitting on my skin for longer; less congestion around my pores; and a decrease in inflammation, redness and acne across my cheeks and chin (even during PMS).',\n",
       " 'Truth to be told, I’m already getting antsy for my next shipment—let’s just say I’m attached to some skincare products for the first time in a while.',\n",
       " 'If you’re interested in testing Curology’s offerings yourself, I’d recommend',\n",
       " 'signing up for a trial',\n",
       " 'to see if it’s right for you.',\n",
       " 'Get the latest news and style intel delivered to your inbox.',\n",
       " 'The Oil That ‘Helps With Hair Growth’ & Yields Results In ‘a Couple of Weeks’ Is on Sale For $9',\n",
       " 'This Mascara Is So Volumizing, Reviewers Warn: ‘Don’t Get Lash Extensions Before You Try This’—Snag It For $9',\n",
       " 'This Skin-Tightening Chin Mask Sold Out 3 Times—But It’s Back In Stock & Discounted to $10',\n",
       " 'This ‘Ageless’ Hair Serum Minimizes The Look of Gray Strands—& It’s 20% Off Right Now',\n",
       " 'Nicole Kidman’s Go-To Hair-Thickening Serum Is 20% Off With This Limited-Time Code',\n",
       " 'This $10 Vitamin E Oil Made a Shopper’s ‘Dry, Aging’ Skin The Best It’s Been ‘In Years’',\n",
       " 'I Went Barbie Blonde For Summer & Yeah, I’m Having More Fun',\n",
       " 'Binge-Worthy Shows, Movies & Live Events To Stream RN',\n",
       " 'Sean Kaufman Is Coming in Hot',\n",
       " 'Get the latest news and style intel delivered to your inbox.',\n",
       " 'Email address to subscribe to newsletter.',\n",
       " 'By subscribing, I agree to the',\n",
       " '. This site is protected by reCAPTCHA Enterprise and the Google',\n",
       " 'PSA: Selena Gomez’s Fave Leather Jacket Is On Sale',\n",
       " 'These Target Home Products Turn Your Space Into An HGTV Show',\n",
       " 'Shoppers Are Seeing ‘Thicker, Fuller’ Hair From This Majorly Discounted Mousse',\n",
       " 'Britney Just Subtly Shaded Sam with an Old Pic After He Filed For Divorce',\n",
       " 'Shoppers Say This $7 Gigi Hadid-Approved Concealer Makes Them Look ‘15 Years Younger’ & It’s 45% Off',\n",
       " \"Darren Kent, 'Game of Thrones' and 'Dungeons and Dragons' Actor, Dies at 36\",\n",
       " \"Majority of Smithsonian's Collection of Human Brain Specimens Was 'Gathered Without Consent,' Report Finds\",\n",
       " 'Donald Trump’s Ex-Friend Claims He’s ‘Scared to Death’ of Going Face To Face With This Political Rival',\n",
       " 'Don Lemon Says He Feels \"Vindicated\" After Chris Licht\\'s CNN Exit',\n",
       " 'Celebrity Deaths 2023: In Memoriam Gallery',\n",
       " 'This Is Us’ Mandy Moore Remembers Ron Cephas Jones and Their Final Scene: ‘He Was Pure Magic’',\n",
       " 'Google killed the gaming Chromebook, but it isn’t a big deal',\n",
       " 'Ron Cephas Jones, ‘This Is Us’ Actor, Dead at 66',\n",
       " 'Bowflex’s SelectTech Adjustable Dumbbells Are On Sale for Over 20% Off',\n",
       " 'Sign Up For Our Newsletter',\n",
       " 'Email address to subscribe to newsletter.',\n",
       " 'By subscribing, I agree to the',\n",
       " '. This site is protected by reCAPTCHA Enterprise and the Google',\n",
       " 'StyleCaster is a part of Penske Media Corporation. © 2023 SheMedia, LLC. All Rights Reserved.']"
      ]
     },
     "execution_count": 55,
     "metadata": {},
     "output_type": "execute_result"
    }
   ],
   "source": [
    "kept_texts"
   ]
  },
  {
   "cell_type": "code",
   "execution_count": 56,
   "id": "1858ea46",
   "metadata": {},
   "outputs": [
    {
     "data": {
      "text/plain": [
       "91"
      ]
     },
     "execution_count": 56,
     "metadata": {},
     "output_type": "execute_result"
    }
   ],
   "source": [
    "len(kept_texts)"
   ]
  },
  {
   "cell_type": "code",
   "execution_count": 57,
   "id": "abdb33f6",
   "metadata": {},
   "outputs": [],
   "source": [
    "# Copy the json file from Google in the local dir and input its name here\n",
    "service_account_json = 'reference-tine-396417-f92dee293865.json'"
   ]
  },
  {
   "cell_type": "code",
   "execution_count": 58,
   "id": "a2f375b4",
   "metadata": {},
   "outputs": [],
   "source": [
    "google_file_name = 'review-on-curology-chatbot-db'"
   ]
  },
  {
   "cell_type": "code",
   "execution_count": 59,
   "id": "f701ecc9",
   "metadata": {},
   "outputs": [],
   "source": [
    "sheet_name = 'info'"
   ]
  },
  {
   "cell_type": "code",
   "execution_count": 20,
   "id": "2dca854d",
   "metadata": {},
   "outputs": [],
   "source": [
    "sheet = cced.access_sheet(service_account_json, google_file_name, sheet_name)"
   ]
  },
  {
   "cell_type": "code",
   "execution_count": 60,
   "id": "026d7d8d",
   "metadata": {},
   "outputs": [
    {
     "data": {
      "text/plain": [
       "['Curology Review 2023: Is the Prescription Skincare Service Worth It? – StyleCaster',\n",
       " 'This Best-Selling Shapewear Bodysuit Went Viral on TikTok & Shoppers Say They Look So ‘Snatched’ In It',\n",
       " 'Watch This Space Presented by Prime Video',\n",
       " 'Email address to subscribe to newsletter.',\n",
       " 'By subscribing, I agree to the',\n",
       " '. This site is protected by reCAPTCHA Enterprise and the Google',\n",
       " 'StyleCaster is a part of Penske Media Corporation. © 2023 SheMedia, LLC. All Rights Reserved.',\n",
       " 'Does Curology Work? I Tested the Personalized Skincare Brand & Here Are My Honest Thoughts',\n",
       " 'How my acne-prone skin fared after three weeks of consistent use.',\n",
       " 'The PS5 Is on Sale For a Massive Discount at This Unexpected Place For One More Day']"
      ]
     },
     "execution_count": 60,
     "metadata": {},
     "output_type": "execute_result"
    }
   ],
   "source": [
    "kept_texts[:10]"
   ]
  },
  {
   "cell_type": "code",
   "execution_count": 62,
   "id": "c815a4a5",
   "metadata": {},
   "outputs": [
    {
     "ename": "AxisError",
     "evalue": "axis 31 is out of bounds for array of dimension 0",
     "output_type": "error",
     "traceback": [
      "\u001b[0;31m---------------------------------------------------------------------------\u001b[0m",
      "\u001b[0;31mAxisError\u001b[0m                                 Traceback (most recent call last)",
      "Cell \u001b[0;32mIn[62], line 10\u001b[0m\n\u001b[1;32m      8\u001b[0m     keep_going\u001b[38;5;241m=\u001b[39m\u001b[38;5;28;01mFalse\u001b[39;00m\n\u001b[1;32m      9\u001b[0m \u001b[38;5;28;01melse\u001b[39;00m:\n\u001b[0;32m---> 10\u001b[0m     indexes \u001b[38;5;241m=\u001b[39m indexes \u001b[38;5;241m+\u001b[39m \u001b[43mnp\u001b[49m\u001b[38;5;241;43m.\u001b[39;49m\u001b[43mmin\u001b[49m\u001b[43m(\u001b[49m\u001b[38;5;241;43m60\u001b[39;49m\u001b[43m,\u001b[49m\u001b[43m \u001b[49m\u001b[43mmax_index\u001b[49m\u001b[38;5;241;43m-\u001b[39;49m\u001b[43mnp\u001b[49m\u001b[38;5;241;43m.\u001b[39;49m\u001b[43mmax\u001b[49m\u001b[43m(\u001b[49m\u001b[43mindexes\u001b[49m\u001b[43m)\u001b[49m\u001b[43m)\u001b[49m\n\u001b[1;32m     11\u001b[0m     time\u001b[38;5;241m.\u001b[39msleep(\u001b[38;5;241m60\u001b[39m)\n",
      "File \u001b[0;32m<__array_function__ internals>:180\u001b[0m, in \u001b[0;36mamin\u001b[0;34m(*args, **kwargs)\u001b[0m\n",
      "File \u001b[0;32m~/anaconda3/envs/python3/lib/python3.10/site-packages/numpy/core/fromnumeric.py:2916\u001b[0m, in \u001b[0;36mamin\u001b[0;34m(a, axis, out, keepdims, initial, where)\u001b[0m\n\u001b[1;32m   2800\u001b[0m \u001b[38;5;129m@array_function_dispatch\u001b[39m(_amin_dispatcher)\n\u001b[1;32m   2801\u001b[0m \u001b[38;5;28;01mdef\u001b[39;00m \u001b[38;5;21mamin\u001b[39m(a, axis\u001b[38;5;241m=\u001b[39m\u001b[38;5;28;01mNone\u001b[39;00m, out\u001b[38;5;241m=\u001b[39m\u001b[38;5;28;01mNone\u001b[39;00m, keepdims\u001b[38;5;241m=\u001b[39mnp\u001b[38;5;241m.\u001b[39m_NoValue, initial\u001b[38;5;241m=\u001b[39mnp\u001b[38;5;241m.\u001b[39m_NoValue,\n\u001b[1;32m   2802\u001b[0m          where\u001b[38;5;241m=\u001b[39mnp\u001b[38;5;241m.\u001b[39m_NoValue):\n\u001b[1;32m   2803\u001b[0m \u001b[38;5;250m    \u001b[39m\u001b[38;5;124;03m\"\"\"\u001b[39;00m\n\u001b[1;32m   2804\u001b[0m \u001b[38;5;124;03m    Return the minimum of an array or minimum along an axis.\u001b[39;00m\n\u001b[1;32m   2805\u001b[0m \n\u001b[0;32m   (...)\u001b[0m\n\u001b[1;32m   2914\u001b[0m \u001b[38;5;124;03m    6\u001b[39;00m\n\u001b[1;32m   2915\u001b[0m \u001b[38;5;124;03m    \"\"\"\u001b[39;00m\n\u001b[0;32m-> 2916\u001b[0m     \u001b[38;5;28;01mreturn\u001b[39;00m \u001b[43m_wrapreduction\u001b[49m\u001b[43m(\u001b[49m\u001b[43ma\u001b[49m\u001b[43m,\u001b[49m\u001b[43m \u001b[49m\u001b[43mnp\u001b[49m\u001b[38;5;241;43m.\u001b[39;49m\u001b[43mminimum\u001b[49m\u001b[43m,\u001b[49m\u001b[43m \u001b[49m\u001b[38;5;124;43m'\u001b[39;49m\u001b[38;5;124;43mmin\u001b[39;49m\u001b[38;5;124;43m'\u001b[39;49m\u001b[43m,\u001b[49m\u001b[43m \u001b[49m\u001b[43maxis\u001b[49m\u001b[43m,\u001b[49m\u001b[43m \u001b[49m\u001b[38;5;28;43;01mNone\u001b[39;49;00m\u001b[43m,\u001b[49m\u001b[43m \u001b[49m\u001b[43mout\u001b[49m\u001b[43m,\u001b[49m\n\u001b[1;32m   2917\u001b[0m \u001b[43m                          \u001b[49m\u001b[43mkeepdims\u001b[49m\u001b[38;5;241;43m=\u001b[39;49m\u001b[43mkeepdims\u001b[49m\u001b[43m,\u001b[49m\u001b[43m \u001b[49m\u001b[43minitial\u001b[49m\u001b[38;5;241;43m=\u001b[39;49m\u001b[43minitial\u001b[49m\u001b[43m,\u001b[49m\u001b[43m \u001b[49m\u001b[43mwhere\u001b[49m\u001b[38;5;241;43m=\u001b[39;49m\u001b[43mwhere\u001b[49m\u001b[43m)\u001b[49m\n",
      "File \u001b[0;32m~/anaconda3/envs/python3/lib/python3.10/site-packages/numpy/core/fromnumeric.py:86\u001b[0m, in \u001b[0;36m_wrapreduction\u001b[0;34m(obj, ufunc, method, axis, dtype, out, **kwargs)\u001b[0m\n\u001b[1;32m     83\u001b[0m         \u001b[38;5;28;01melse\u001b[39;00m:\n\u001b[1;32m     84\u001b[0m             \u001b[38;5;28;01mreturn\u001b[39;00m reduction(axis\u001b[38;5;241m=\u001b[39maxis, out\u001b[38;5;241m=\u001b[39mout, \u001b[38;5;241m*\u001b[39m\u001b[38;5;241m*\u001b[39mpasskwargs)\n\u001b[0;32m---> 86\u001b[0m \u001b[38;5;28;01mreturn\u001b[39;00m \u001b[43mufunc\u001b[49m\u001b[38;5;241;43m.\u001b[39;49m\u001b[43mreduce\u001b[49m\u001b[43m(\u001b[49m\u001b[43mobj\u001b[49m\u001b[43m,\u001b[49m\u001b[43m \u001b[49m\u001b[43maxis\u001b[49m\u001b[43m,\u001b[49m\u001b[43m \u001b[49m\u001b[43mdtype\u001b[49m\u001b[43m,\u001b[49m\u001b[43m \u001b[49m\u001b[43mout\u001b[49m\u001b[43m,\u001b[49m\u001b[43m \u001b[49m\u001b[38;5;241;43m*\u001b[39;49m\u001b[38;5;241;43m*\u001b[39;49m\u001b[43mpasskwargs\u001b[49m\u001b[43m)\u001b[49m\n",
      "\u001b[0;31mAxisError\u001b[0m: axis 31 is out of bounds for array of dimension 0"
     ]
    }
   ],
   "source": [
    "indexes = np.arange(np.min([60, len(kept_texts)]))\n",
    "max_index = len(kept_texts)-1\n",
    "# Doing 60 and pausing 1 min to stay within the quota from Google\n",
    "keep_going = True\n",
    "while keep_going:\n",
    "    cced.save_into_google_sheet([kept_texts[ii] for ii in indexes], sheet)\n",
    "    if np.max(indexes) == max_index:\n",
    "        keep_going=False\n",
    "    else:\n",
    "        indexes = indexes + np.min(60, max_index-np.max(indexes))\n",
    "        time.sleep(60)"
   ]
  },
  {
   "cell_type": "code",
   "execution_count": null,
   "id": "66afa230",
   "metadata": {},
   "outputs": [],
   "source": []
  }
 ],
 "metadata": {
  "kernelspec": {
   "display_name": "conda_python3",
   "language": "python",
   "name": "conda_python3"
  },
  "language_info": {
   "codemirror_mode": {
    "name": "ipython",
    "version": 3
   },
   "file_extension": ".py",
   "mimetype": "text/x-python",
   "name": "python",
   "nbconvert_exporter": "python",
   "pygments_lexer": "ipython3",
   "version": "3.10.10"
  }
 },
 "nbformat": 4,
 "nbformat_minor": 5
}
